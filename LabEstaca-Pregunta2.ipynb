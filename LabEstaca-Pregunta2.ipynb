{
 "cells": [
  {
   "cell_type": "markdown",
   "metadata": {},
   "source": [
    "# Uber\n",
    "\n",
    "Se solicita, a partir del dataset entregado, obtener el mes en el que se recorrio la mayor cantidad de millas. Para esto se considera la fecha de inicio de cada viaje el determinante de a que mes pertenecio el recorrido. Luego de esto se obtienen subdatas del dataset original los cuales contienen los datos solo para cierto mes. Se compara el valor de la suma de millas de cada subdata para determinar el mes que recorrio la mayor cantidad.\n",
    "En el dataset se modifican los nombres de algunas columnas para dar un manejo mas simple a los datos en ella.\n",
    "\n",
    "\n"
   ]
  },
  {
   "cell_type": "code",
   "execution_count": 97,
   "metadata": {},
   "outputs": [
    {
     "name": "stdout",
     "output_type": "stream",
     "text": [
      "10\n"
     ]
    }
   ],
   "source": [
    "import pandas as pd\n",
    "import matplotlib.pyplot as plt\n",
    "import warnings\n",
    "warnings.filterwarnings('ignore')\n",
    "dataset = pd.read_csv('uber.csv')\n",
    "dataset['fechaini'] = pd.to_datetime(dataset['fechaini'])\n",
    "max=0\n",
    "for i in range (1,13):\n",
    "    subdata = dataset[['fechaini', 'millas']].query('fechaini.dt.month=='+str(i)) \n",
    "    millastotal=subdata['millas'].sum()\n",
    "    if millastotal>max:\n",
    "        max=millastotal\n",
    "        mes=i\n",
    "print(mes)\n",
    "        \n",
    "    \n",
    "    \n",
    "    "
   ]
  },
  {
   "cell_type": "markdown",
   "metadata": {},
   "source": [
    "Se obtiene de esta forma que el mes en el que se recorrieron mas millas fue Octubre.\n",
    "\n",
    "A partir del dataset original, se realiza la suma de la columna millas para determinar las millas totales recorridas en el año. Con esto, segun la cantidad de filas, se determina el largo promedio de un viaje. El valor total es dividido por la cantidad de meses para obtener el promedio mensual y por la cantidad de semanas para obtener el promedio semanal."
   ]
  },
  {
   "cell_type": "code",
   "execution_count": 98,
   "metadata": {},
   "outputs": [
    {
     "name": "stdout",
     "output_type": "stream",
     "text": [
      "El largo promedio de un viaje a lo largo de un año fue: 10.566839826839827 millas\n",
      "La distancia promedio recorrida por mes fue: 1017.0583333333334 millas\n",
      "La distacia promedio recorrida por semana fue: 234.70576923076925 millas\n"
     ]
    }
   ],
   "source": [
    "dpromedio=dataset['millas'].sum()/len(dataset)\n",
    "dmes=dataset['millas'].sum()/12\n",
    "dsem=dataset['millas'].sum()/52\n",
    "\n",
    "print(\"El largo promedio de un viaje a lo largo de un año fue: \" + str(distanciapromedio)+\" millas\")\n",
    "print(\"La distancia promedio recorrida por mes fue: \"+ str(dmes)+\" millas\")\n",
    "print(\"La distacia promedio recorrida por semana fue: \"+ str(dsem)+\" millas\")\n"
   ]
  },
  {
   "cell_type": "markdown",
   "metadata": {},
   "source": [
    "Para responder a que mes corresponde el que tuvo viajes mas irregulares se obtiene la desviacion estandar de cada mes y se elije el mes que posea el mayor valor."
   ]
  },
  {
   "cell_type": "code",
   "execution_count": 99,
   "metadata": {},
   "outputs": [
    {
     "name": "stdout",
     "output_type": "stream",
     "text": [
      "3\n"
     ]
    }
   ],
   "source": [
    "desviacion_estandar=dataset['millas'].std()\n",
    "max=0\n",
    "for i in range (1,13):\n",
    "    subdata = dataset[['fechaini', 'millas']].query('fechaini.dt.month=='+str(i)) \n",
    "    desviacion=subdata['millas'].std()\n",
    "    if desviacion>max:\n",
    "        max=desviacion\n",
    "        mes=i\n",
    "print(mes)"
   ]
  },
  {
   "cell_type": "markdown",
   "metadata": {},
   "source": [
    "Se obtiene de esta forma que el mes con viajes mas irregulares fue marzo, por lo que sobre este se obtendran sus cuartiles."
   ]
  },
  {
   "cell_type": "code",
   "execution_count": 100,
   "metadata": {},
   "outputs": [
    {
     "name": "stdout",
     "output_type": "stream",
     "text": [
      "Primer Cuartil:\n",
      " millas    2.1\n",
      "Name: 0.25, dtype: float64\n",
      "\n",
      "Segundo Cuartil:\n",
      " millas    6.6\n",
      "Name: 0.5, dtype: float64\n",
      "\n",
      "Tercer Cuartil:\n",
      " millas    10.9\n",
      "Name: 0.75, dtype: float64\n"
     ]
    }
   ],
   "source": [
    "subdata = dataset[['fechaini', 'millas']].query('fechaini.dt.month==3')\n",
    "primer_cuartil=subdata.quantile(.25)\n",
    "segundo_cuartil=subdata.quantile(.5)\n",
    "tercer_cuartil=subdata.quantile(.75)\n",
    "\n",
    "print(\"Primer Cuartil:\\n \"+str(primer_cuartil))\n",
    "print(\"\\nSegundo Cuartil:\\n \"+str(segundo_cuartil))\n",
    "print(\"\\nTercer Cuartil:\\n \"+str(tercer_cuartil))\n",
    "\n"
   ]
  },
  {
   "cell_type": "markdown",
   "metadata": {},
   "source": [
    "Se logra observar a partir del rango intercuartil que la dispersión de los datos es alta, dada la diferencia entre cada cuartil. Se logra observar ademas que de el 75% de los datos esta bajo el promedio de viaje diario y que el 25% de los viajes resultan ser viajes muy cortos.\n",
    "\n",
    "Se realiza un boxplot de los meses: enero, mayo, septiembre, diciembre."
   ]
  },
  {
   "cell_type": "code",
   "execution_count": 101,
   "metadata": {},
   "outputs": [
    {
     "data": {
      "image/png": "[encoded data removed]",
      "text/plain": [
       "<matplotlib.figure.Figure at 0x18de7a3c978>"
      ]
     },
     "metadata": {},
     "output_type": "display_data"
    },
    {
     "data": {
      "image/png": "[encoded data removed]",
      "text/plain": [
       "<matplotlib.figure.Figure at 0x18de2a96e10>"
      ]
     },
     "metadata": {},
     "output_type": "display_data"
    },
    {
     "data": {
      "image/png": "[encoded data removed]",
      "text/plain": [
       "<matplotlib.figure.Figure at 0x18de70ee668>"
      ]
     },
     "metadata": {},
     "output_type": "display_data"
    },
    {
     "data": {
      "image/png": "[encoded data removed]",
      "text/plain": [
       "<matplotlib.figure.Figure at 0x18de5a7d780>"
      ]
     },
     "metadata": {},
     "output_type": "display_data"
    }
   ],
   "source": [
    "subdata = dataset[['fechaini', 'millas']].query('fechaini.dt.month==1')\n",
    "plt.figure()\n",
    "subdata.boxplot(figsize=(15, 5))\n",
    "plt.show()\n",
    "subdata = dataset[['fechaini', 'millas']].query('fechaini.dt.month==5')\n",
    "plt.figure()\n",
    "subdata.boxplot(figsize=(15, 5))\n",
    "plt.show()\n",
    "subdata = dataset[['fechaini', 'millas']].query('fechaini.dt.month==9')\n",
    "plt.figure()\n",
    "subdata.boxplot(figsize=(15, 5))\n",
    "plt.show()\n",
    "subdata = dataset[['fechaini', 'millas']].query('fechaini.dt.month==12')\n",
    "plt.figure()\n",
    "subdata.boxplot(figsize=(15, 5))\n",
    "plt.show()\n"
   ]
  },
  {
   "cell_type": "markdown",
   "metadata": {},
   "source": [
    "A partir de los boxplots se puede observar que en diciembre se presenta una mayor cantidad de _**outliers**_ mientras que en los otros meses solo se presentan _**outliers**_ puntuales. Se logra apreciar ademas que la mayoria de los _**outliers**_ en diciembre se presenta justo por sobre del bigote superior y que los cuartiles para cada mes se mantienen dentro del mismo rango de millas. Se tiene ademas de lo realizado anteriormente, que el promedio de cada viaje durante el transcurso del año es de 10,56 siendo este cercano al tercer cuartil en cada uno de los meses. Esto indica que el promedio se ve afectado en gran medida por los _**outliers**_ siendo asi una medida estadística poco representativa de los viajes realizados a lo largo del año.\n",
    "\n",
    "Se procede a calcular la ganancia total utilizando la siguiente función de costo:\n",
    "$$\n",
    "f(x)= \\left\\{ \\begin{array}{lcc}\n",
    "             12 &   si  & x \\leq 3.0 \\\\\n",
    "             \\\\ 5x &  si & 3.0 < x < 20.0 \\\\\n",
    "             \\\\ 100 + 0.35\\cdot x &  si  & x \\geq 20\n",
    "             \\end{array}\n",
    "   \\right.\n",
    "$$\n",
    "\n",
    "\n"
   ]
  },
  {
   "cell_type": "code",
   "execution_count": 103,
   "metadata": {},
   "outputs": [
    {
     "name": "stdout",
     "output_type": "stream",
     "text": [
      "La ganancia total del uber fue 45847.140000000014\n"
     ]
    }
   ],
   "source": [
    "ganancia=0\n",
    "for i in range (0, len(dataset)):\n",
    "    millas=dataset['millas'][i]\n",
    "    if millas<=3.0:\n",
    "        ganancia=ganancia+12\n",
    "    if millas<20 and millas>3.0:\n",
    "        ganancia=ganancia+(5*millas)\n",
    "    if millas>=20:\n",
    "        ganancia=ganancia+100+(0.35*millas)\n",
    "print(\"La ganancia total del uber fue \"+str(ganancia))\n",
    "    \n",
    "    "
   ]
  },
  {
   "cell_type": "markdown",
   "metadata": {},
   "source": []
  }
 ],
 "metadata": {
  "kernelspec": {
   "display_name": "Python 3",
   "language": "python",
   "name": "python3"
  },
  "language_info": {
   "codemirror_mode": {
    "name": "ipython",
    "version": 3
   },
   "file_extension": ".py",
   "mimetype": "text/x-python",
   "name": "python",
   "nbconvert_exporter": "python",
   "pygments_lexer": "ipython3",
   "version": "3.6.4"
  }
 },
 "nbformat": 4,
 "nbformat_minor": 2
}
