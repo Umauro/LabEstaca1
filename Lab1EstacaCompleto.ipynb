{
 "cells": [
  {
   "cell_type": "markdown",
   "metadata": {},
   "source": [
    "<img src=\"img/usmlogo.png\" style=\"float:right;height:100px\">\n",
    "<img src=\"img/dilogo.png\" style=\"float:left;height:60px\">\n",
    "<center>\n",
    "<div>\n",
    "    <center>\n",
    "    <h1>Laboratorio 1 Estadística Computacional</h1>\n",
    "    </center>\n",
    "</div>\n",
    "<div>\n",
    "    <br>\n",
    "    <h5> Giorgio Pellizzari - 201473599-5 - Malla Nueva</h5>\n",
    "    <h5> Felipe Vega - 201473511-1 - Malla Nueva</h5>\n",
    "    <h6>9 de abril del 2018</h6>\n",
    "</div>\n",
    "</center>"
   ]
  },
  {
   "cell_type": "markdown",
   "metadata": {},
   "source": [
    "# Tiroteos en USA\n",
    "\n",
    "Para trabajar con el dataset entregado, lo primero es eliminar las columnas con datos que no utilizarán en el estudio. Por esta razón se eliminan las columnas **localidad**, **area**, **raza**, **sexo**, **latitud**, **longitud**, **trabajada**, **trabaja.donde** y **resumen**. Además, se transforma la columna fecha para que sus datos sean de tipo _**DateTime**_ y no de tipo _**String**_."
   ]
  },
  {
   "cell_type": "code",
   "execution_count": 17,
   "metadata": {
    "collapsed": false
   },
   "outputs": [],
   "source": [
    "import pandas as pd\n",
    "import matplotlib.pyplot as plt\n",
    "import numpy as np\n",
    "import warnings\n",
    "warnings.filterwarnings('ignore')\n",
    "\n",
    "dataset = pd.read_csv('usashooting.csv', encoding='latin-1')\n",
    "dataset.drop('localidad',1, inplace=True)\n",
    "dataset.drop('area',1, inplace=True)\n",
    "dataset.drop('raza',1, inplace=True)\n",
    "dataset.drop('sexo',1, inplace=True)\n",
    "dataset.drop('latitud',1, inplace=True)\n",
    "dataset.drop('longitud',1, inplace=True)\n",
    "dataset.drop('trabajaba',1, inplace=True)\n",
    "dataset.drop('trabaja.donde',1, inplace=True)\n",
    "dataset.drop('resumen',1, inplace=True)\n",
    "dataset['fecha'] = pd.to_datetime(dataset['fecha'])"
   ]
  },
  {
   "cell_type": "markdown",
   "metadata": {},
   "source": [
    "Dado que se necesita sacar los promedios de _**tiroteos, muertos y heridos**_ desde el año _1983_ se obtiene un subset de datos, donde se tienen dichas columnas para todos los tiroteos desde ese año. Finalmente se puede calcular el promedio de tiroteos por año sumando todos los tiroteos del subset y dividiendolo por la cantidad de años que considera dicho dataset. En el caso los muertos y heridos durante ese período de tiempo, se suman todos los muertos/heridos y se dividen por la cantidad de años analizados."
   ]
  },
  {
   "cell_type": "code",
   "execution_count": 18,
   "metadata": {
    "collapsed": false
   },
   "outputs": [
    {
     "name": "stdout",
     "output_type": "stream",
     "text": [
      "Promedio de tiroteos por año, entre 1983 y 2017: 8.885714285714286\n",
      "Promedio de muertos en tiroteos por año, entre 1983 y 2017: 39.22857142857143\n",
      "Promedio de heridos en tiroteos por año, entre 1983 y 2017: 54.48571428571429\n"
     ]
    }
   ],
   "source": [
    "subDataDesde1983 = dataset[['fecha', 'muertos', 'heridos']].query('fecha.dt.year >= 1983')\n",
    "cantidadDeAños = len(subDataDesde1983.groupby(subDataDesde1983['fecha'].dt.year))\n",
    "promedioTiroteos = len(subDataDesde1983)/cantidadDeAños\n",
    "promedioMuertos = subDataDesde1983['muertos'].sum()/cantidadDeAños\n",
    "promedioHeridos = subDataDesde1983['heridos'].sum()/cantidadDeAños\n",
    "print(\"Promedio de tiroteos por año, entre 1983 y 2017: \"+str(promedioTiroteos))\n",
    "print(\"Promedio de muertos en tiroteos por año, entre 1983 y 2017: \" + str(promedioMuertos))\n",
    "print(\"Promedio de heridos en tiroteos por año, entre 1983 y 2017: \" + str(promedioHeridos))\n"
   ]
  },
  {
   "cell_type": "markdown",
   "metadata": {
    "collapsed": true
   },
   "source": [
    "Se observa que el promedio de tiroteos por año, considerando los datos entre 1983 y 2017, es de aproximadamente 9 tiroteos. El promedio de heridos por año es mayor al promedio de muertos por año, con aproximadamente 54 y 39 afectados respectivamente.\n",
    "\n",
    "Como se necesita analizar la cantidad de muertos y heridos dependiendo del estado mental del perpetuador, se genera un subset con dichas columnas, dejando de lado los tiroteos donde no se tiene registro del estado mental. Para comparar, se utilizan boxplot, donde se grafican las cajas para la cantidad de heridos y para la cantidad de muertos para los tiroteos donde el perpetuador tiene problemas mentales y cuando no los tiene."
   ]
  },
  {
   "cell_type": "code",
   "execution_count": 19,
   "metadata": {
    "collapsed": false
   },
   "outputs": [
    {
     "data": {
      "text/plain": [
       "<matplotlib.figure.Figure at 0x178f4040668>"
      ]
     },
     "metadata": {},
     "output_type": "display_data"
    },
    {
     "data": {
      "image/png": "[encoded data removed]",
      "text/plain": [
       "<matplotlib.figure.Figure at 0x178f3fb99e8>"
      ]
     },
     "metadata": {},
     "output_type": "display_data"
    }
   ],
   "source": [
    "subDataMental = dataset[['muertos', 'heridos','problemas.mentales']]\n",
    "subDataMental.loc[:,'problemas.mentales'] = subDataMental.loc[:,'problemas.mentales'].str.lower()\n",
    "subDataMental.loc[:,'problemas.mentales'].fillna(\"unknown\",inplace=True)\n",
    "subDataMental = subDataMental[subDataMental['problemas.mentales'] != 'unclear']\n",
    "subDataMental = subDataMental[subDataMental['problemas.mentales'] != 'unknown']\n",
    "\n",
    "\n",
    "color = dict(boxes='DarkGreen', whiskers='DarkOrange', medians = 'DarkBlue', caps='Gray')\n",
    "\n",
    "plt.figure()\n",
    "subDataMental.boxplot(by='problemas.mentales', figsize=(15, 5))\n",
    "plt.show()\n",
    "\n"
   ]
  },
  {
   "cell_type": "markdown",
   "metadata": {
    "collapsed": true
   },
   "source": [
    "Se puede observar que en los casos donde se presentan atacantes con problemas mentales hay una mayor presencia de _**outliers**_ en los heridos y los muertos sobre el bigote superior. Esto indica que cuando se tienen atacantes con problemas mentales se dan más casos extremadamente violentos, donde la cantidad de víctimas es grande.\n",
    "\n",
    "Dado que no se aprecia las relaciones entre las cajas de los boxplot, se grafican nuevos boxplot pero sin colocar los _**outliers**_ (pero considerandolos igualmente para el cálculo de los cuartiles)."
   ]
  },
  {
   "cell_type": "code",
   "execution_count": 20,
   "metadata": {
    "collapsed": false
   },
   "outputs": [
    {
     "data": {
      "text/plain": [
       "<matplotlib.figure.Figure at 0x178f486c550>"
      ]
     },
     "metadata": {},
     "output_type": "display_data"
    },
    {
     "data": {
      "image/png": "[encoded data removed]",
      "text/plain": [
       "<matplotlib.figure.Figure at 0x178f48618d0>"
      ]
     },
     "metadata": {},
     "output_type": "display_data"
    }
   ],
   "source": [
    "plt.figure()\n",
    "subDataMental.boxplot(by='problemas.mentales', figsize=(15, 5), showfliers=False)\n",
    "plt.show()"
   ]
  },
  {
   "cell_type": "markdown",
   "metadata": {
    "collapsed": true
   },
   "source": [
    "En el boxplot para los heridos, se puede observar que la mediana para el estado mental es prácticamente la misma, para el caso de los terceros cuartiles se nota una mayor diferencia, con preferencia a tener más heridos en los casos de atacantes con problemas mentales. Las diferencias se notan más en el caso de los muertos, donde al observar las posiciones de los cuartiles, se puede ver que en el 50% de los tiroteos donde el atacante no está sano mentalmente hay mas muertos que en el 75% de los tiroteos donde el atacante no tiene problemas mentales. Ambos gráficos indican que cuando se tienen atacantes con problemas mentales hay más afectados, notándose esta diferencia de mejor manera en el caso de los muertos en estos incidentes.\n",
    "\n",
    "Por otro lado, se desea analizar los tiroteos ocurridos en los períodos de ejercicio de dos presidentes de los Estados Unidos, George W. Bush (20/01/2001 - 20/01/2009) y Barack Obama (20/01/2009 - 20/01/2017). Por esta razón de generan dos subset de datos, con los tiroteos ocurridos en dichos períodos respectivamente. \n",
    "\n",
    "El día 20/01/2009 se contabilizará como parte del gobierno de Bush. Además, no se considerarán las columnas _**localidad, area, raza, sexo, latitud, longitud, trabajaba, trabajaba.donde y resumen**_ para realizar los subset. También se pasan los campos _**motivo y problemas.mentales**_ a minúsculas.\n",
    "\n",
    "El subset con los tiroteos ocurridos durante el período de ejercicio de George W. Bush está almacenado en la variable _**periodoBush**_ y el subset con los tiroteos producidos en el período de Barack Obama se encuentran en la variable _**periodoObama**_."
   ]
  },
  {
   "cell_type": "code",
   "execution_count": 21,
   "metadata": {
    "collapsed": false
   },
   "outputs": [],
   "source": [
    "periodoBush = dataset.query(\"fecha >= '20-01-2001' and fecha <= '20-01-2009'\")\n",
    "periodoObama = dataset.query(\"fecha > '20-01-2009' and fecha <= '20-01-2017'\")\n",
    "\n",
    "periodoBush.loc[:,'problemas.mentales'] = periodoBush.loc[:,'problemas.mentales'].str.lower()\n",
    "periodoBush.loc[:,'motivo'] = periodoBush.loc[:,'motivo'].str.lower()\n",
    "periodoObama.loc[:,'problemas.mentales'] = periodoObama.loc[:,'problemas.mentales'].str.lower()\n",
    "periodoObama.loc[:,'motivo'] = periodoObama.loc[:,'motivo'].str.lower()\n"
   ]
  },
  {
   "cell_type": "markdown",
   "metadata": {},
   "source": [
    "Se obtienen el número de víctimas de cada período sumando los valores de la columna _**victimas.totales**_ para cada período. "
   ]
  },
  {
   "cell_type": "code",
   "execution_count": 22,
   "metadata": {
    "collapsed": false
   },
   "outputs": [
    {
     "name": "stdout",
     "output_type": "stream",
     "text": [
      "Las victimas totales del período de Bush es: 336 en un total de 35 tiroteos.\n",
      "Las victimas totales del período de Obama es: 1475 en un total de 198 tiroteos\n"
     ]
    }
   ],
   "source": [
    "print(\"Las victimas totales del período de Bush es: \"+ str(periodoBush['victimas.totales'].sum())+ \" en un total de \"+ str(len(periodoBush))+\" tiroteos.\")\n",
    "print(\"Las victimas totales del período de Obama es: \" + str(periodoObama['victimas.totales'].sum())+ \" en un total de \" + str(len(periodoObama))+ \" tiroteos\")"
   ]
  },
  {
   "cell_type": "markdown",
   "metadata": {},
   "source": [
    "Se obtiene que las víctimas durante el período de Bush alcanzaron un total de 336 afectados en un total de 35 tiroteos. El el período de Obama se alcanzó un total de 1475 víctimas en 198 tiroteos. \n",
    "\n",
    "Para ver cual fue la mayor causa de los ataques de cada período se generan dos gráficos de barras (1 por período), graficando la frecuencia con la que aparece cada motivo del subset de datos."
   ]
  },
  {
   "cell_type": "code",
   "execution_count": 23,
   "metadata": {
    "collapsed": false
   },
   "outputs": [
    {
     "data": {
      "image/png": "[encoded data removed]",
      "text/plain": [
       "<matplotlib.figure.Figure at 0x178f3e44978>"
      ]
     },
     "metadata": {},
     "output_type": "display_data"
    }
   ],
   "source": [
    "porMotivoBush = periodoBush.groupby(['motivo'])\n",
    "porMotivoObama = periodoObama.groupby(['motivo'])\n",
    "\n",
    "\n",
    "\n",
    "fig, axes = plt.subplots(nrows=1, ncols=2)\n",
    "porMotivoBush.size().plot(kind='bar', title=\"Cantidad de tiroteos por motivo durante el período de Bush\", ax=axes[0],figsize=(15, 5))\n",
    "porMotivoObama.size().plot(kind='bar', title=\"Cantidad de tiroteos por motivo durante el período de Obama\", ax=axes[1],figsize=(15, 5))\n",
    "plt.show()"
   ]
  },
  {
   "cell_type": "markdown",
   "metadata": {
    "collapsed": true
   },
   "source": [
    "Como se puede observar en los gráficos anteriores, el principal motivo de tiroteos durante la administración de George W. Bush fue el terrorismo. Por otro lado, durante la administración de Barack Obama el principal motivo fueron los ataques realizados por psicópatas."
   ]
  },
  {
   "cell_type": "code",
   "execution_count": 24,
   "metadata": {
    "collapsed": false
   },
   "outputs": [
    {
     "data": {
      "text/plain": [
       "<matplotlib.figure.Figure at 0x178f3d06cc0>"
      ]
     },
     "metadata": {},
     "output_type": "display_data"
    },
    {
     "data": {
      "image/png": "[encoded data removed]",
      "text/plain": [
       "<matplotlib.figure.Figure at 0x178f3f67278>"
      ]
     },
     "metadata": {},
     "output_type": "display_data"
    }
   ],
   "source": [
    "subBush = periodoBush[['muertos','heridos','victimas.totales']]\n",
    "subBush.rename(columns={'muertos': 'Muertos Bush', 'heridos': 'Heridos Bush', 'victimas.totales': 'Victimas Bush'}, inplace=True)\n",
    "\n",
    "subObama = periodoObama[['muertos','heridos','victimas.totales']]\n",
    "subObama.rename(columns={'muertos': 'Muertos Obama', 'heridos': 'Heridos Obama', 'victimas.totales': 'Victimas Obama'}, inplace=True)\n",
    "\n",
    "concatenacion = pd.concat([subBush, subObama], axis=1)\n",
    "concatenacion.sort_index(axis=1, inplace=True)\n",
    "\n",
    "plt.figure()\n",
    "concatenacion.plot.box(figsize=(10,10), title=\"Comparación entre la cantidad de muertos, heridos y víctimas totales entre ambos gobiernos\")\n",
    "plt.show()"
   ]
  },
  {
   "cell_type": "markdown",
   "metadata": {},
   "source": [
    "Bajo inspección simple, se ve que en materia de heridos, muertos y víctimas totales, el gobierno de Bush fue más violento, donde todas las _\"cajas\"_ de dicho período tienen todos sus cuartiles más altos que la administración de Obama. Sin embargo, se observan más outliers en la administración de Obama, lo que indica que en dicha administración hubieron tiroteos realmente violentos, como por ejemplo, el caso un tiroteo durante la administración Obama que registró más de 100 víctimas totales.\n",
    "\n",
    "Para analizar de mejor manera las cajas del boxplot, se vuelve a graficar pero limitando los valores del eje _**\"y\"**_ graficados."
   ]
  },
  {
   "cell_type": "code",
   "execution_count": 25,
   "metadata": {
    "collapsed": false
   },
   "outputs": [
    {
     "data": {
      "text/plain": [
       "<matplotlib.figure.Figure at 0x178f3e65978>"
      ]
     },
     "metadata": {},
     "output_type": "display_data"
    },
    {
     "data": {
      "image/png": "[encoded data removed]",
      "text/plain": [
       "<matplotlib.figure.Figure at 0x178f3d502e8>"
      ]
     },
     "metadata": {},
     "output_type": "display_data"
    }
   ],
   "source": [
    "plt.figure()\n",
    "concatenacion.plot.box(figsize=(10,10), ylim=(0,20), title=\"Comparación entre la cantidad de muertos, heridos y víctimas totales entre ambos gobiernos\")\n",
    "plt.show()"
   ]
  },
  {
   "cell_type": "markdown",
   "metadata": {},
   "source": [
    "Al observar el nuevo gráfico se ratifica la observación entregada anteriormente, en todos los casos analizados, en el 50% de los tiroteos de la administración de Bush hubo más afectados en todas las categorías que en el 75% de los tiroteos bajo la administración Obama. Esto se ve reflejado en que las medianas del gobierno de Bush están a la misma altura (o sobre) que todos los terceros cuartiles de las cajas del gobierno de Obama.\n",
    "\n",
    "Dada la presencia de outliers, principalmente en la administración Obama, se calculan los promedios de muertos, heridos y víctimas por tiroteo en ambas administraciones, con el objetivo de ver si esta medida de tendencia central cambia las conclusiones obtenidas a partir de una medida de tendencia central robusta frente a valores extremos."
   ]
  },
  {
   "cell_type": "code",
   "execution_count": 26,
   "metadata": {
    "collapsed": false,
    "scrolled": true
   },
   "outputs": [
    {
     "name": "stdout",
     "output_type": "stream",
     "text": [
      "Promedio de muertos gobierno de Bush: 5.285714285714286\n",
      "Promedio de muertos gobierno de Obama: 3.792929292929293\n",
      "Promedio de heridos gobierno de Bush: 4.685714285714286\n",
      "Promedio de heridos gobierno de Obama: 4.005050505050505\n",
      "Promedio de víctimas gobierno de Bush: 9.6\n",
      "Promedio de víctimas gobierno de Obama: 7.44949494949495\n"
     ]
    }
   ],
   "source": [
    "print(\"Promedio de muertos gobierno de Bush: \" + str(subBush['Muertos Bush'].sum()/len(subBush)))\n",
    "print(\"Promedio de muertos gobierno de Obama: \"+ str(subObama['Muertos Obama'].sum()/len(subObama)))\n",
    "\n",
    "print(\"Promedio de heridos gobierno de Bush: \" + str(subBush['Heridos Bush'].sum()/len(subBush)))\n",
    "print(\"Promedio de heridos gobierno de Obama: \" + str(subObama['Heridos Obama'].sum()/len(subObama)))\n",
    "\n",
    "print(\"Promedio de víctimas gobierno de Bush: \" + str(subBush['Victimas Bush'].sum()/len(subBush)))\n",
    "print(\"Promedio de víctimas gobierno de Obama: \" + str(subObama['Victimas Obama'].sum()/len(subObama)))"
   ]
  },
  {
   "cell_type": "markdown",
   "metadata": {},
   "source": [
    "Como se puede observar en los valores obtenidos, a pesar de la presencia de outliers en el subset del gobierno de Obama se siguen obteniendo promedios más altos durante la administración de Bush. \n",
    "\n",
    "En conclusión, la cantidad de afectados por tiroteos es mayor durante la administración de George W. Bush, a pesar de la presencia de outliers y la cantidad de tiroteos producidos en el período presidencial de Barack Obama."
   ]
  },
  {
   "cell_type": "markdown",
   "metadata": {},
   "source": [
    "# Uber\n",
    "\n",
    "Se solicita, a partir del dataset entregado, obtener el mes en el que se recorrio la mayor cantidad de millas. Para esto se considera la fecha de inicio de cada viaje el determinante de a que mes perteneció el recorrido. Luego de esto se obtienen subdatas del dataset original los cuales contienen los datos solo para cierto mes. Se compara el valor de la suma de millas de cada subdata para determinar el mes que recorrio la mayor cantidad.\n",
    "En el dataset se modifican los nombres de algunas columnas para dar un manejo mas simple a los datos en ella."
   ]
  },
  {
   "cell_type": "code",
   "execution_count": 27,
   "metadata": {
    "collapsed": false
   },
   "outputs": [
    {
     "name": "stdout",
     "output_type": "stream",
     "text": [
      "10\n"
     ]
    }
   ],
   "source": [
    "import pandas as pd\n",
    "import matplotlib.pyplot as plt\n",
    "import warnings\n",
    "warnings.filterwarnings('ignore')\n",
    "dataset = pd.read_csv('uber.csv')\n",
    "dataset['fechaini'] = pd.to_datetime(dataset['fechaini'])\n",
    "max=0\n",
    "for i in range (1,13):\n",
    "    subdata = dataset[['fechaini', 'millas']].query('fechaini.dt.month=='+str(i)) \n",
    "    millastotal=subdata['millas'].sum()\n",
    "    if millastotal>max:\n",
    "        max=millastotal\n",
    "        mes=i\n",
    "print(mes)\n",
    "        "
   ]
  },
  {
   "cell_type": "markdown",
   "metadata": {},
   "source": [
    "Se obtiene de esta forma que el mes en el que se recorrieron mas millas fue **Octubre**.\n",
    "\n",
    "A partir del dataset original, se realiza la suma de la columna millas para determinar las millas totales recorridas en el año. Con esto, segun la cantidad de filas, se determina el largo promedio de un viaje. El valor total es dividido por la cantidad de meses para obtener el promedio mensual y por la cantidad de semanas para obtener el promedio semanal."
   ]
  },
  {
   "cell_type": "code",
   "execution_count": 28,
   "metadata": {
    "collapsed": false
   },
   "outputs": [
    {
     "name": "stdout",
     "output_type": "stream",
     "text": [
      "El largo promedio de un viaje a lo largo de un año fue: 10.566839826839812 millas\n",
      "La distancia promedio recorrida por mes fue: 1017.058333333332 millas\n",
      "La distacia promedio recorrida por semana fue: 234.70576923076894 millas\n"
     ]
    }
   ],
   "source": [
    "dpromedio=dataset['millas'].sum()/len(dataset)\n",
    "dmes=dataset['millas'].sum()/12\n",
    "dsem=dataset['millas'].sum()/52\n",
    "\n",
    "print(\"El largo promedio de un viaje a lo largo de un año fue: \" + str(dpromedio)+\" millas\")\n",
    "print(\"La distancia promedio recorrida por mes fue: \"+ str(dmes)+\" millas\")\n",
    "print(\"La distacia promedio recorrida por semana fue: \"+ str(dsem)+\" millas\")\n"
   ]
  },
  {
   "cell_type": "markdown",
   "metadata": {},
   "source": [
    "Para responder a que mes corresponde el que tuvo viajes más irregulares se obtiene la desviacion estandar de cada mes y se elije el mes que posea el mayor valor."
   ]
  },
  {
   "cell_type": "code",
   "execution_count": 29,
   "metadata": {
    "collapsed": false
   },
   "outputs": [
    {
     "name": "stdout",
     "output_type": "stream",
     "text": [
      "3\n"
     ]
    }
   ],
   "source": [
    "desviacion_estandar=dataset['millas'].std()\n",
    "max=0\n",
    "for i in range (1,13):\n",
    "    subdata = dataset[['fechaini', 'millas']].query('fechaini.dt.month=='+str(i)) \n",
    "    desviacion=subdata['millas'].std()\n",
    "    if desviacion>max:\n",
    "        max=desviacion\n",
    "        mes=i\n",
    "print(mes)"
   ]
  },
  {
   "cell_type": "markdown",
   "metadata": {},
   "source": [
    "Se obtiene de esta forma que el mes con viajes mas irregulares fue marzo, por lo que sobre este se calcularán sus cuartiles."
   ]
  },
  {
   "cell_type": "code",
   "execution_count": 30,
   "metadata": {
    "collapsed": false
   },
   "outputs": [
    {
     "name": "stdout",
     "output_type": "stream",
     "text": [
      "Primer Cuartil:\n",
      " millas    2.1\n",
      "Name: 0.25, dtype: float64\n",
      "\n",
      "Segundo Cuartil:\n",
      " millas    6.6\n",
      "Name: 0.5, dtype: float64\n",
      "\n",
      "Tercer Cuartil:\n",
      " millas    10.9\n",
      "Name: 0.75, dtype: float64\n"
     ]
    }
   ],
   "source": [
    "subdata = dataset[['fechaini', 'millas']].query('fechaini.dt.month==3')\n",
    "primer_cuartil=subdata.quantile(.25)\n",
    "segundo_cuartil=subdata.quantile(.5)\n",
    "tercer_cuartil=subdata.quantile(.75)\n",
    "\n",
    "print(\"Primer Cuartil:\\n \"+str(primer_cuartil))\n",
    "print(\"\\nSegundo Cuartil:\\n \"+str(segundo_cuartil))\n",
    "print(\"\\nTercer Cuartil:\\n \"+str(tercer_cuartil))"
   ]
  },
  {
   "cell_type": "markdown",
   "metadata": {},
   "source": [
    "Se logra observar a partir del rango intercuartil que la dispersión de los datos es alta, dada la diferencia entre cada cuartil. Se logra observar ademas que de el 75% de los datos esta bajo el promedio de viaje diario y que el 25% de los viajes resultan ser viajes muy cortos.\n",
    "\n",
    "Se realiza un boxplot de los meses: enero, mayo, septiembre, diciembre."
   ]
  },
  {
   "cell_type": "code",
   "execution_count": 31,
   "metadata": {
    "collapsed": false
   },
   "outputs": [
    {
     "data": {
      "image/png": "[encoded data removed]",
      "text/plain": [
       "<matplotlib.figure.Figure at 0x178f440e320>"
      ]
     },
     "metadata": {},
     "output_type": "display_data"
    },
    {
     "data": {
      "image/png": "[encoded data removed]",
      "text/plain": [
       "<matplotlib.figure.Figure at 0x178f3e665f8>"
      ]
     },
     "metadata": {},
     "output_type": "display_data"
    },
    {
     "data": {
      "image/png": "[encoded data removed]",
      "text/plain": [
       "<matplotlib.figure.Figure at 0x178f4adf128>"
      ]
     },
     "metadata": {},
     "output_type": "display_data"
    },
    {
     "data": {
      "image/png": "[encoded data removed]",
      "text/plain": [
       "<matplotlib.figure.Figure at 0x178f4993048>"
      ]
     },
     "metadata": {},
     "output_type": "display_data"
    }
   ],
   "source": [
    "subdata = dataset[['fechaini', 'millas']].query('fechaini.dt.month==1')\n",
    "plt.figure()\n",
    "subdata.boxplot(figsize=(15, 5))\n",
    "plt.show()\n",
    "subdata = dataset[['fechaini', 'millas']].query('fechaini.dt.month==5')\n",
    "plt.figure()\n",
    "subdata.boxplot(figsize=(15, 5))\n",
    "plt.show()\n",
    "subdata = dataset[['fechaini', 'millas']].query('fechaini.dt.month==9')\n",
    "plt.figure()\n",
    "subdata.boxplot(figsize=(15, 5))\n",
    "plt.show()\n",
    "subdata = dataset[['fechaini', 'millas']].query('fechaini.dt.month==12')\n",
    "plt.figure()\n",
    "subdata.boxplot(figsize=(15, 5))\n",
    "plt.show()\n"
   ]
  },
  {
   "cell_type": "markdown",
   "metadata": {},
   "source": [
    "A partir de los boxplots se puede observar que en diciembre se presenta una mayor cantidad de _**outliers**_ mientras que en los otros meses solo se presentan _**outliers**_ puntuales. Se logra apreciar ademas que la mayoria de los _**outliers**_ en diciembre se presenta justo por sobre del bigote superior y que los cuartiles para cada mes se mantienen dentro del mismo rango de millas. Se tiene ademas de lo realizado anteriormente, que el promedio de cada viaje durante el transcurso del año es de 10,56 siendo este cercano al tercer cuartil en cada uno de los meses. Esto indica que el promedio se ve afectado en gran medida por los _**outliers**_ siendo asi una medida estadística poco representativa de los viajes realizados a lo largo del año.\n",
    "\n",
    "Se procede a calcular la ganancia total utilizando la siguiente función de costo:\n",
    "$$\n",
    "f(x)= \\left\\{ \\begin{array}{lcc}\n",
    "             12 &   si  & x \\leq 3.0 \\\\\n",
    "             \\\\ 5x &  si & 3.0 < x < 20.0 \\\\\n",
    "             \\\\ 100 + 0.35\\cdot x &  si  & x \\geq 20\n",
    "             \\end{array}\n",
    "   \\right.\n",
    "$$\n"
   ]
  },
  {
   "cell_type": "code",
   "execution_count": 32,
   "metadata": {
    "collapsed": false
   },
   "outputs": [
    {
     "name": "stdout",
     "output_type": "stream",
     "text": [
      "La ganancia total del uber fue 45847.14\n"
     ]
    }
   ],
   "source": [
    "ganancia=0\n",
    "for i in range (0, len(dataset)):\n",
    "    millas=dataset['millas'][i]\n",
    "    if millas<=3.0:\n",
    "        ganancia=ganancia+12\n",
    "    if millas<20 and millas>3.0:\n",
    "        ganancia=ganancia+(5*millas)\n",
    "    if millas>=20:\n",
    "        ganancia=ganancia+100+(0.35*millas)\n",
    "print(\"La ganancia total del uber fue \"+str(ganancia))"
   ]
  },
  {
   "cell_type": "markdown",
   "metadata": {},
   "source": [
    "# Piedra, papel o tijeras\n",
    "\n",
    "Para escoger de forma aleatoria se considera utilizar random.randint(1,3) y asociar piedra, papel y tijeras a los valores 1, 2 y 3 del random respectivamente.\n",
    "\n",
    "Para el problema, se hace comparación en los 9 casos posibles (3 por estrategia) teniendo un total de 3000 duelos por estrategia. "
   ]
  },
  {
   "cell_type": "code",
   "execution_count": 33,
   "metadata": {
    "collapsed": false
   },
   "outputs": [
    {
     "name": "stdout",
     "output_type": "stream",
     "text": [
      "La cantidad de victorias fue: 1020\n",
      "El porcentaje de victoria para la estrategia A fue de un: 34.0%\n"
     ]
    }
   ],
   "source": [
    "import random\n",
    "wins=0\n",
    "\n",
    "#Caso A vs A\n",
    "for i in range(0,1000):\n",
    "    a=random.randint(1,3)\n",
    "    e=random.randint(1,3)\n",
    "    if (a==1) and (e==3):\n",
    "        wins=wins+1\n",
    "    elif (a==2) and (e==1):\n",
    "        wins=wins+1\n",
    "    elif (a==3) and (e==2):\n",
    "        wins=wins+1\n",
    "        \n",
    "#Caso A vs B\n",
    "e=random.randint(1,3)\n",
    "for i in range(0,1000):\n",
    "    a=random.randint(1,3)\n",
    "    if (a==1) and (e==3):\n",
    "        wins=wins+1\n",
    "        e=random.randint(1,3)\n",
    "    elif (a==2) and (e==1):\n",
    "        wins=wins+1\n",
    "        e=random.randint(1,3)\n",
    "    elif (a==3) and (e==2):\n",
    "        wins=wins+1\n",
    "        e=random.randint(1,3)\n",
    "    elif (a==e):\n",
    "        e=random.randint(1,3)\n",
    "        \n",
    "#Caso A vs C\n",
    "e=random.randint(1,3)\n",
    "for i in range(0,1000):\n",
    "    a=random.randint(1,3)\n",
    "    if (a==1) and (e==3):\n",
    "        wins=wins+1\n",
    "        e=2\n",
    "    elif (a==2) and (e==1):\n",
    "        wins=wins+1\n",
    "        e=3\n",
    "    elif (a==3) and (e==2):\n",
    "        wins=wins+1\n",
    "        e=1\n",
    "    elif (a==e):\n",
    "        if (e==3):\n",
    "            e=2\n",
    "        elif (e==2):\n",
    "            e=1\n",
    "        elif (e==1):\n",
    "            e=3\n",
    "\n",
    "print(\"La cantidad de victorias fue: \"+str(wins))\n",
    "print(\"El porcentaje de victoria para la estrategia A fue de un: \"+str(wins/30)+\"%\")\n",
    "\n"
   ]
  },
  {
   "cell_type": "code",
   "execution_count": 34,
   "metadata": {
    "collapsed": false
   },
   "outputs": [
    {
     "name": "stdout",
     "output_type": "stream",
     "text": [
      "La cantidad de victorias fue: 1023\n",
      "El porcentaje de victoria para la estrategia B fue de un: 34.1%\n"
     ]
    }
   ],
   "source": [
    "wins=0\n",
    "\n",
    "#Caso B vs A\n",
    "\n",
    "a=random.randint(1,3)\n",
    "for i in range(0,1000):\n",
    "    e=random.randint(1,3)\n",
    "    if (a==1) and (e==3):\n",
    "        wins=wins+1\n",
    "    elif (a==2) and (e==1):\n",
    "        wins=wins+1\n",
    "    elif (a==3) and (e==2):\n",
    "        wins=wins+1\n",
    "    elif (a!=e):\n",
    "        a=random.randint(1,3)\n",
    "        \n",
    "#Caso B vs B\n",
    "e=random.randint(1,3)\n",
    "a=random.randint(1,3)\n",
    "for i in range(0,1000):\n",
    "    if (a==1) and (e==3):\n",
    "        wins=wins+1\n",
    "        e=random.randint(1,3)\n",
    "    elif (a==2) and (e==1):\n",
    "        wins=wins+1\n",
    "        e=random.randint(1,3)\n",
    "    elif (a==3) and (e==2):\n",
    "        wins=wins+1\n",
    "        e=random.randint(1,3)\n",
    "    elif (a==e):\n",
    "        e=random.randint(1,3)\n",
    "    elif (a!=e):\n",
    "        a=random.randint(1,3)\n",
    "\n",
    "        \n",
    "#Caso B vs C\n",
    "a=random.randint(1,3)\n",
    "e=random.randint(1,3)\n",
    "for i in range(0,1000):\n",
    "    if (a==1) and (e==3):\n",
    "        wins=wins+1\n",
    "        e=2\n",
    "    elif (a==2) and (e==1):\n",
    "        wins=wins+1\n",
    "        e=3\n",
    "    elif (a==3) and (e==2):\n",
    "        wins=wins+1\n",
    "        e=1\n",
    "    elif (a==e):\n",
    "        if (e==3):\n",
    "            e=2\n",
    "        elif (e==2):\n",
    "            e=1\n",
    "        elif (e==1):\n",
    "            e=3\n",
    "    elif (a!=e):\n",
    "        a=random.randint(1,3)\n",
    "        \n",
    "\n",
    "print(\"La cantidad de victorias fue: \"+str(wins))\n",
    "print(\"El porcentaje de victoria para la estrategia B fue de un: \"+str(wins/30)+\"%\")"
   ]
  },
  {
   "cell_type": "code",
   "execution_count": 35,
   "metadata": {
    "collapsed": false
   },
   "outputs": [
    {
     "name": "stdout",
     "output_type": "stream",
     "text": [
      "La cantidad de victorias fue: 898\n",
      "El porcentaje de victoria para la estrategia C fue de un: 29.933333333333334%\n"
     ]
    }
   ],
   "source": [
    "wins=0\n",
    "\n",
    "#Caso C vs A\n",
    "\n",
    "a=random.randint(1,3)\n",
    "for i in range(0,1000):\n",
    "    e=random.randint(1,3)\n",
    "    if (a==1) and (e==3):\n",
    "        wins=wins+1\n",
    "    elif (a==2) and (e==1):\n",
    "        wins=wins+1\n",
    "    elif (a==3) and (e==2):\n",
    "        wins=wins+1\n",
    "    elif (a!=e):\n",
    "        if (a==3):\n",
    "            a=1\n",
    "        elif (a==2):\n",
    "            a=3\n",
    "        elif (a==1):\n",
    "            a=2\n",
    "        \n",
    "#Caso C vs B\n",
    "e=random.randint(1,3)\n",
    "a=random.randint(1,3)\n",
    "for i in range(0,1000):\n",
    "    if (a==1) and (e==3):\n",
    "        wins=wins+1\n",
    "        e=random.randint(1,3)\n",
    "    elif (a==2) and (e==1):\n",
    "        wins=wins+1\n",
    "        e=random.randint(1,3)\n",
    "    elif (a==3) and (e==2):\n",
    "        wins=wins+1\n",
    "        e=random.randint(1,3)\n",
    "    elif (a==e):\n",
    "        e=random.randint(1,3)\n",
    "    elif (a!=e):\n",
    "        if (a==3):\n",
    "            a=1\n",
    "        elif (a==2):\n",
    "            a=3\n",
    "        elif (a==1):\n",
    "            a=2\n",
    "\n",
    "        \n",
    "#Caso C vs C\n",
    "a=random.randint(1,3)\n",
    "e=random.randint(1,3)\n",
    "for i in range(0,1000):\n",
    "    if (a==1) and (e==3):\n",
    "        wins=wins+1\n",
    "        e=2\n",
    "    elif (a==2) and (e==1):\n",
    "        wins=wins+1\n",
    "        e=3\n",
    "    elif (a==3) and (e==2):\n",
    "        wins=wins+1\n",
    "        e=1\n",
    "    elif (a==e):\n",
    "        if (e==3):\n",
    "            e=2\n",
    "        elif (e==2):\n",
    "            e=1\n",
    "        elif (e==1):\n",
    "            e=3\n",
    "    elif (a!=e):\n",
    "        if (a==3):\n",
    "            a=1\n",
    "        elif (a==2):\n",
    "            a=3\n",
    "        elif (a==1):\n",
    "            a=2\n",
    "        \n",
    "\n",
    "print(\"La cantidad de victorias fue: \"+str(wins))\n",
    "print(\"El porcentaje de victoria para la estrategia C fue de un: \"+str(wins/30)+\"%\")"
   ]
  },
  {
   "cell_type": "markdown",
   "metadata": {},
   "source": [
    "Dado que en cualquiera de las 3 estrategias se estan usando valores aleatorios para comparar, los porcentajes de victoria variarán cada vez que se ejecute el código y no se podría determinar una estrategia favorable sobre la otra debido a esto.\n",
    "\n",
    "Si se considerara los resultados obtenidos en varias ejecuciones, se puede observar que la estrategia C tiende a tomar valores un 1-4% menores a los que toman las estrategias A y B (esto no ocurre siempre debido a las variables aleatorias), siendo una de estas la que toma el mejor porcentaje de victoria por una diferencia minima."
   ]
  },
  {
   "cell_type": "markdown",
   "metadata": {
    "collapsed": true
   },
   "source": [
    "# Cálculo del área bajo la curva utilizando el método de Montecarlo\n",
    "\n",
    "Para obtener el área bajo la curva de la campana de Gauss en [-4 , 4] se calcula la integral en dicho intervalo de la función que define la campana.\n",
    "\n",
    "$$\n",
    "A = \\int_{-4}^{4} \\frac{e^{\\frac{-x^2}{2}}}{\\sqrt{2\\pi}} dx\n",
    "$$\n",
    "\n",
    "Realizando el cambio de variable $y = \\frac{x - (-4)}{4-(-4)}$, $dx = dy(4-(-4))$ se obtiene la siguiente integral.\n",
    "\n",
    "$$\n",
    "A = \\int_{0}^{1} \\frac{e^{\\frac{-(8y - 4)^2}{2}}}{\\sqrt{2\\pi}}*8 dy\n",
    "$$\n",
    "\n",
    "Una vez realizado el cambio de variable, el método de Integración de Montecarlo indica que si se generan $x_i \\hspace{0.5cm} i \\in 1,...,n$ números aleatorios bajo una distribución uniforme, la integral anterior se puede aproximar con la siguiente fórmula.\n",
    "\n",
    "$$\n",
    "\\frac{8}{n} \\sum_{i=1}^{n}\\frac{e^{\\frac{-(8x_i - 4)^2}{2}}}{\\sqrt{2\\pi}} \\approx \\int_{-4}^{4} \\frac{e^{\\frac{-x^2}{2}}}{\\sqrt{2\\pi}} dx\n",
    "$$\n",
    "\n",
    "Además, mientras más grande sea $n$, mejor es la aproximación, lo que quiere decir que si se calcula el límite cuando $n \\to \\infty$ de la sumatoria anterior se obtiene exactamente el valor de la integral.\n",
    "\n",
    "Dado el método de Montecarlo, se procede a calcular una aproximación del área de la Campana de Gauss, para esto se generan números pseudo-aleatorios siguiendo una distribución uniforme. Se utiliza una semilla para que los resultados obtenidos sean los mismos cada vez que se ejecute la aproximación y así no varíen los resultados del análisis realizado."
   ]
  },
  {
   "cell_type": "code",
   "execution_count": 36,
   "metadata": {
    "collapsed": false
   },
   "outputs": [
    {
     "name": "stdout",
     "output_type": "stream",
     "text": [
      "El área bajo la curva de la Campana de Gauss es de: 0.999952576973\n"
     ]
    }
   ],
   "source": [
    "iteraciones = []\n",
    "iteraciones2 = []\n",
    "areasCalculadas = []\n",
    "areasCalculadas2 = []\n",
    "np.random.seed(97)\n",
    "\n",
    "for j in range(1,7500, 100):\n",
    "    sumatoria = 0\n",
    "    for i in range(j):\n",
    "        sumatoria += (np.exp((-(8*np.random.rand() - 4)**2)/2))/((2*np.pi)**(1/2))\n",
    "    areaBajoLaCurva = sumatoria*(8/j) \n",
    "    areasCalculadas.append(areaBajoLaCurva)\n",
    "    iteraciones.append(j)\n",
    "\n",
    "for j in range(1,250000, 5000):\n",
    "    sumatoria = 0\n",
    "    for i in range(j):\n",
    "        sumatoria += (np.exp((-(8*np.random.rand() - 4)**2)/2))/((2*np.pi)**(1/2))\n",
    "    areaBajoLaCurva = sumatoria*(8/j) \n",
    "    areasCalculadas2.append(areaBajoLaCurva)\n",
    "    iteraciones2.append(j)\n",
    "\n",
    "\n",
    "sumatoria = 0    \n",
    "for i in range(250000):\n",
    "    sumatoria += (np.exp((-(8*np.random.rand() - 4)**2)/2))/((2*np.pi)**(1/2))\n",
    "areaBajoLaCurva = sumatoria*(8/250000) \n",
    "\n",
    "print(\"El área bajo la curva de la Campana de Gauss es de: \" + str(areaBajoLaCurva))\n",
    "\n",
    "#plt.plot(iteraciones, areasCalculadas)\n",
    "#plt.show()\n"
   ]
  },
  {
   "cell_type": "markdown",
   "metadata": {},
   "source": [
    "Como se sabe, el área bajo la curva de una campana de Gauss es de 1. De esta manera es posible obtener el error cuadrático de la aproximación obtenida"
   ]
  },
  {
   "cell_type": "code",
   "execution_count": 37,
   "metadata": {
    "collapsed": false
   },
   "outputs": [
    {
     "name": "stdout",
     "output_type": "stream",
     "text": [
      "Error Cuadrático: 2.24894347471e-07%\n"
     ]
    }
   ],
   "source": [
    "print(\"Error Cuadrático: \" + str(((1-areaBajoLaCurva)**2)*100) +\"%\") "
   ]
  },
  {
   "cell_type": "markdown",
   "metadata": {},
   "source": [
    "Se tiene un error cuadrático porcentual del orden de $10^{-7}$, lo que indica que se obtuvo una buena aproximación del área de la campana.\n",
    "\n",
    "Por último, se realizan gráficos 2 gráficos para observar la convergencia del método. Uno considerando $n = 7500$ y el otro considerando $n = 250000$."
   ]
  },
  {
   "cell_type": "code",
   "execution_count": 38,
   "metadata": {
    "collapsed": false
   },
   "outputs": [
    {
     "data": {
      "image/png": "[encoded data removed]",
      "text/plain": [
       "<matplotlib.figure.Figure at 0x178f441e978>"
      ]
     },
     "metadata": {},
     "output_type": "display_data"
    }
   ],
   "source": [
    "plt.figure(figsize=(15,5))\n",
    "\n",
    "plt.subplot(121)\n",
    "plt.title(\"Gráfico de Números Utilizados vs Área Aproximada\")\n",
    "plt.plot(iteraciones, areasCalculadas)\n",
    "plt.xlabel(\"Cantidad de Números Utilizados\")\n",
    "plt.ylabel(\"Área Aproximada\")\n",
    "plt.subplot(122)\n",
    "plt.plot(iteraciones2, areasCalculadas2)\n",
    "plt.title(\"Gráfico de Números utilizados vs Área Aproximada\")\n",
    "plt.xlabel(\"Cantidad de Números Utilizados\")\n",
    "plt.ylabel(\"Área Aproximada\")\n",
    "plt.show()"
   ]
  },
  {
   "cell_type": "markdown",
   "metadata": {},
   "source": [
    "En el primer gráfico se puede observar como va variando el valor del área entregada por la aproximación. Si bien todos los valores pasase encuentran cercanos a uno no se aprecia una clara convergencia a dicho valor. Al observar el segundo gráfico se observa de mejor manera la convergencia al valor exacto.\n",
    "\n",
    "Esto nos indica que el método utilizado converge correctamente al valor exacto de"
   ]
  },
  {
   "cell_type": "code",
   "execution_count": null,
   "metadata": {
    "collapsed": true
   },
   "outputs": [],
   "source": []
  }
 ],
 "metadata": {
  "kernelspec": {
   "display_name": "Python 3",
   "language": "python",
   "name": "python3"
  },
  "language_info": {
   "codemirror_mode": {
    "name": "ipython",
    "version": 3
   },
   "file_extension": ".py",
   "mimetype": "text/x-python",
   "name": "python",
   "nbconvert_exporter": "python",
   "pygments_lexer": "ipython3",
   "version": "3.6.0"
  }
 },
 "nbformat": 4,
 "nbformat_minor": 2
}
