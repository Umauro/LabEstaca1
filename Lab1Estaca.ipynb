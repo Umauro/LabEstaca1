{
 "cells": [
  {
   "cell_type": "markdown",
   "metadata": {},
   "source": [
    "<img src=\"img/usmlogo.png\" style=\"float:right;height:100px\">\n",
    "<img src=\"img/dilogo.png\" style=\"float:left;height:100px\">\n",
    "<center>\n",
    "<h1>Laboratorio 1 Estadística Computacional</h1>\n",
    "<div>\n",
    "<h4> Giorgio Pellizzari - 2014735</h4>\n",
    "<h4> Felipe Vega - 201473511-1</h4>\n",
    "<h5>9 de abril del 2018</h5>\n",
    "</div>\n",
    "</center>"
   ]
  },
  {
   "cell_type": "markdown",
   "metadata": {},
   "source": [
    "# Tiroteos en USA\n",
    "\n",
    "Para trabajar con el dataset entregado, lo primero es eliminar las columnas con datos que no utilizarán en el estudio. Por esta razón se eliminan las columnas **localidad**, **area**, **raza**, **sexo**, **latitud**, **longitud**, **trabajada**, **trabaja.donde** y **resumen**. Además, se transforma la columna fecha para que sus datos sean de tipo _**DateTime**_ y no de tipo _**String**_."
   ]
  },
  {
   "cell_type": "code",
   "execution_count": 2,
   "metadata": {
    "collapsed": false
   },
   "outputs": [],
   "source": [
    "import pandas as pd\n",
    "import matplotlib.pyplot as plt\n",
    "import warnings\n",
    "warnings.filterwarnings('ignore')\n",
    "\n",
    "dataset = pd.read_csv('usashooting.csv', encoding='latin-1')\n",
    "dataset.drop('localidad',1, inplace=True)\n",
    "dataset.drop('area',1, inplace=True)\n",
    "dataset.drop('raza',1, inplace=True)\n",
    "dataset.drop('sexo',1, inplace=True)\n",
    "dataset.drop('latitud',1, inplace=True)\n",
    "dataset.drop('longitud',1, inplace=True)\n",
    "dataset.drop('trabajaba',1, inplace=True)\n",
    "dataset.drop('trabaja.donde',1, inplace=True)\n",
    "dataset.drop('resumen',1, inplace=True)\n",
    "dataset['fecha'] = pd.to_datetime(dataset['fecha'])"
   ]
  },
  {
   "cell_type": "markdown",
   "metadata": {},
   "source": [
    "Dado que se necesita sacar los promedios de _**tiroteos, muertos y heridos**_ desde el año _1983_ se obtiene un subset de datos, donde se tienen dichas columnas para todos los tiroteos desde ese año. Finalmente se puede calcular el promedio de tiroteos por año sumando todos los tiroteos del subset y dividiendolo por la cantidad de años que considera dicho dataset. En el caso los muertos y heridos durante ese período de tiempo, se suman todos los muertos/heridos y se dividen por la cantidad de años analizados."
   ]
  },
  {
   "cell_type": "code",
   "execution_count": 3,
   "metadata": {
    "collapsed": false
   },
   "outputs": [
    {
     "name": "stdout",
     "output_type": "stream",
     "text": [
      "Promedio de tiroteos por año, entre 1983 y 2017: 8.885714285714286\n",
      "Promedio de muertos en tiroteos por año, entre 1983 y 2017: 39.22857142857143\n",
      "Promedio de heridos en tiroteos por año, entre 1983 y 2017: 54.48571428571429\n"
     ]
    }
   ],
   "source": [
    "subDataDesde1983 = dataset[['fecha', 'muertos', 'heridos']].query('fecha.dt.year >= 1983')\n",
    "cantidadDeAños = len(subDataDesde1983.groupby(subDataDesde1983['fecha'].dt.year))\n",
    "promedioTiroteos = len(subDataDesde1983)/cantidadDeAños\n",
    "promedioMuertos = subDataDesde1983['muertos'].sum()/cantidadDeAños\n",
    "promedioHeridos = subDataDesde1983['heridos'].sum()/cantidadDeAños\n",
    "print(\"Promedio de tiroteos por año, entre 1983 y 2017: \"+str(promedioTiroteos))\n",
    "print(\"Promedio de muertos en tiroteos por año, entre 1983 y 2017: \" + str(promedioMuertos))\n",
    "print(\"Promedio de heridos en tiroteos por año, entre 1983 y 2017: \" + str(promedioHeridos))"
   ]
  },
  {
   "cell_type": "markdown",
   "metadata": {
    "collapsed": true
   },
   "source": [
    "Como se necesita analizar la cantidad de muertos y heridos dependiendo del estado mental del perpetuador, se genera un subset con dichas columnas, dejando de lado los tiroteos donde no se tiene registro del estado mental. Para comparar, se utilizan boxplot, donde se grafican las cajas para la cantidad de heridos y para la cantidad de muertos para los tiroteos donde el perpetuador tiene problemas mentales y cuando no los tiene."
   ]
  },
  {
   "cell_type": "code",
   "execution_count": 6,
   "metadata": {
    "collapsed": false
   },
   "outputs": [
    {
     "data": {
      "text/plain": [
       "<matplotlib.figure.Figure at 0x17c8f8303c8>"
      ]
     },
     "metadata": {},
     "output_type": "display_data"
    },
    {
     "data": {
      "image/png": "[encoded data removed]",
      "text/plain": [
       "<matplotlib.figure.Figure at 0x17c90864400>"
      ]
     },
     "metadata": {},
     "output_type": "display_data"
    }
   ],
   "source": [
    "subDataMental = dataset[['muertos', 'heridos','problemas.mentales']]\n",
    "subDataMental.loc[:,'problemas.mentales'] = subDataMental.loc[:,'problemas.mentales'].str.lower()\n",
    "subDataMental.loc[:,'problemas.mentales'].fillna(\"unknown\",inplace=True)\n",
    "subDataMental = subDataMental[subDataMental['problemas.mentales'] != 'unclear']\n",
    "subDataMental = subDataMental[subDataMental['problemas.mentales'] != 'unknown']\n",
    "subGruposMental = subDataMental.groupby(subDataMental['problemas.mentales'])\n",
    "\n",
    "color = dict(boxes='DarkGreen', whiskers='DarkOrange', medians = 'DarkBlue', caps='Gray')\n",
    "\n",
    "plt.figure()\n",
    "subDataMental.boxplot(by='problemas.mentales', figsize=(15, 5))\n",
    "plt.show()\n"
   ]
  },
  {
   "cell_type": "markdown",
   "metadata": {
    "collapsed": true
   },
   "source": [
    "Se puede observar que en los casos donde se presentan atacantes con problemas mentales hay una mayor presencia de _**outliers**_ en los heridos y los muertos sobre el bigote superior. Esto indica que cuando se tienen atacantes con problemas mentales se dan más casos extremadamente violentos, donde la cantidad de víctimas es grande.\n",
    "\n",
    "Dado que no se aprecia las relaciones entre las cajas de los boxplot, se grafican nuevos boxplot pero sin colocar los _**outliers**_ (pero considerandolos igualmente para el cálculo de los cuartiles)."
   ]
  },
  {
   "cell_type": "code",
   "execution_count": 5,
   "metadata": {
    "collapsed": false
   },
   "outputs": [
    {
     "data": {
      "text/plain": [
       "<matplotlib.figure.Figure at 0x17c8d3939b0>"
      ]
     },
     "metadata": {},
     "output_type": "display_data"
    },
    {
     "data": {
      "image/png": "[encoded data removed]",
      "text/plain": [
       "<matplotlib.figure.Figure at 0x17c8d394080>"
      ]
     },
     "metadata": {},
     "output_type": "display_data"
    }
   ],
   "source": [
    "plt.figure()\n",
    "subDataMental.boxplot(by='problemas.mentales', figsize=(15, 5), showfliers=False)\n",
    "plt.show()"
   ]
  },
  {
   "cell_type": "code",
   "execution_count": null,
   "metadata": {
    "collapsed": true
   },
   "outputs": [],
   "source": []
  }
 ],
 "metadata": {
  "kernelspec": {
   "display_name": "Python 3",
   "language": "python",
   "name": "python3"
  },
  "language_info": {
   "codemirror_mode": {
    "name": "ipython",
    "version": 3
   },
   "file_extension": ".py",
   "mimetype": "text/x-python",
   "name": "python",
   "nbconvert_exporter": "python",
   "pygments_lexer": "ipython3",
   "version": "3.6.0"
  }
 },
 "nbformat": 4,
 "nbformat_minor": 2
}
