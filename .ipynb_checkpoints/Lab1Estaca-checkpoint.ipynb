{
 "cells": [
  {
   "cell_type": "markdown",
   "metadata": {},
   "source": [
    "<img src=\"img/usmlogo.png\" style=\"float:right;height:100px\">\n",
    "<img src=\"img/dilogo.png\" style=\"float:left;height:100px\">\n",
    "<center>\n",
    "<h1>Laboratorio 1 Estadística Computacional</h1>\n",
    "<div>\n",
    "<h4> Giorgio Pellizzari - 2014735</h4>\n",
    "<h4> Felipe Vega - 201473511-1</h4>\n",
    "<h5>9 de abril del 2018</h5>\n",
    "</div>\n",
    "</center>"
   ]
  },
  {
   "cell_type": "markdown",
   "metadata": {},
   "source": [
    "# Tiroteos en USA\n",
    "\n",
    "Para trabajar con el dataset entregado, lo primero es eliminar las columnas con datos que no utilizarán en el estudio. Por esta razón se eliminan las columnas **localidad**, **area**, **raza**, **sexo**, **latitud**, **longitud**, **trabajada**, **trabaja.donde** y **resumen**. Además, se transforma la columna fecha para que sus datos sean de tipo _**DateTime**_ y no de tipo _**String**_."
   ]
  },
  {
   "cell_type": "code",
   "execution_count": 20,
   "metadata": {
    "collapsed": false
   },
   "outputs": [],
   "source": [
    "import pandas as pd\n",
    "dataset = pd.read_csv('usashooting.csv', encoding='latin-1')\n",
    "dataset.drop('localidad',1, inplace=True)\n",
    "dataset.drop('area',1, inplace=True)\n",
    "dataset.drop('raza',1, inplace=True)\n",
    "dataset.drop('sexo',1, inplace=True)\n",
    "dataset.drop('latitud',1, inplace=True)\n",
    "dataset.drop('longitud',1, inplace=True)\n",
    "dataset.drop('trabajaba',1, inplace=True)\n",
    "dataset.drop('trabaja.donde',1, inplace=True)\n",
    "dataset.drop('resumen',1, inplace=True)\n",
    "dataset['fecha'] = pd.to_datetime(dataset['fecha'])"
   ]
  },
  {
   "cell_type": "markdown",
   "metadata": {},
   "source": [
    "Dado que se necesita sacar los promedios de _**tiroteos, muertos y heridos**_ desde el año _1983_ se obtiene un subset de datos, donde se tienen dichas columnas para todos los tiroteos desde ese año. Finalmente se puede calcular el promedio de tiroteos por año sumando todos los tiroteos del subset y dividiendolo por la cantidad de años que considera dicho dataset. En el caso los muertos y heridos durante ese período de tiempo, se suman todos los muertos/heridos y se dividen por la cantidad de años analizados."
   ]
  },
  {
   "cell_type": "code",
   "execution_count": 35,
   "metadata": {
    "collapsed": false
   },
   "outputs": [
    {
     "name": "stdout",
     "output_type": "stream",
     "text": [
      "Promedio de tiroteos por año, entre 1983 y 2017: 8.885714285714286\n",
      "Promedio de muertos en tiroteos por año, entre 1983 y 2017: 39.22857142857143\n",
      "Promedio de heridos en tiroteos por año, entre 1983 y 2017: 54.48571428571429\n"
     ]
    }
   ],
   "source": [
    "subDataDesde1983 = dataset[['fecha', 'muertos', 'heridos']].query('fecha.dt.year >= 1983')\n",
    "cantidadDeAños = len(subDataDesde1983.groupby(subDataDesde1983['fecha'].dt.year))\n",
    "promedioTiroteos = len(subDataDesde1983)/cantidadDeAños\n",
    "promedioMuertos = subDataDesde1983['muertos'].sum()/cantidadDeAños\n",
    "promedioHeridos = subDataDesde1983['heridos'].sum()/cantidadDeAños\n",
    "print(\"Promedio de tiroteos por año, entre 1983 y 2017: \"+str(promedioTiroteos))\n",
    "print(\"Promedio de muertos en tiroteos por año, entre 1983 y 2017: \" + str(promedioMuertos))\n",
    "print(\"Promedio de heridos en tiroteos por año, entre 1983 y 2017: \" + str(promedioHeridos))"
   ]
  },
  {
   "cell_type": "markdown",
   "metadata": {
    "collapsed": true
   },
   "source": [
    "Como se necesita analizar la cantidad de muertos y heridos dependiendo del estado mental del perpetuador, se genera un subset con dichas columnas, dejando de lado los tiroteos donde no se tiene registro del estado mental."
   ]
  },
  {
   "cell_type": "code",
   "execution_count": 66,
   "metadata": {
    "collapsed": false
   },
   "outputs": [
    {
     "name": "stdout",
     "output_type": "stream",
     "text": [
      "     muertos  heridos problemas.mentales\n",
      "0         26       20                 no\n",
      "1          3        0                 no\n",
      "2          3        3                 no\n",
      "3         59      527            unclear\n",
      "4          3        2                yes\n",
      "5          3        0            unclear\n",
      "6          5        0            unclear\n",
      "7          3        0                yes\n",
      "8          3        0            unclear\n",
      "9          5        6                yes\n",
      "10         5        0                yes\n",
      "11         3        3                yes\n",
      "12         5       11            unclear\n",
      "13        49       53            unclear\n",
      "20         1        4                yes\n",
      "29         2        2                yes\n",
      "31         4        0                yes\n",
      "51         3       14            unclear\n",
      "57         6        2            unclear\n",
      "60         6        2                 no\n",
      "71         6        0                yes\n",
      "80        14       21            unclear\n",
      "82         3        9            unclear\n",
      "87         1        2                yes\n",
      "96         5        0                yes\n",
      "101        3        9                yes\n",
      "103        5        3                yes\n",
      "108        3        1                yes\n",
      "113        5        0                yes\n",
      "115        4        1                yes\n",
      "..       ...      ...                ...\n",
      "289        9        0                 no\n",
      "290       12        6                 no\n",
      "291        9       12                yes\n",
      "292        4        1                 no\n",
      "293        6       30                yes\n",
      "295        2        9                yes\n",
      "296        5        2                 no\n",
      "297        2        7                yes\n",
      "298        7        4                yes\n",
      "299        1        2                 no\n",
      "300        6       14                yes\n",
      "301        1        3                yes\n",
      "302       15        6                yes\n",
      "303        1        4                yes\n",
      "304        2        1                yes\n",
      "305        1        3                yes\n",
      "306       22       19                yes\n",
      "307        6        1                yes\n",
      "308        3       12                yes\n",
      "309        1        3                yes\n",
      "311        9        3                yes\n",
      "312        1        2                yes\n",
      "314        2        9                yes\n",
      "315        7        2                yes\n",
      "317        3        7                 no\n",
      "318        1        3                yes\n",
      "319       10       13                yes\n",
      "320        2        4                yes\n",
      "321        5        1                yes\n",
      "322       17       32                yes\n",
      "\n",
      "[212 rows x 3 columns]\n"
     ]
    },
    {
     "name": "stderr",
     "output_type": "stream",
     "text": [
      "C:\\Users\\Felipe\\Anaconda3\\lib\\site-packages\\pandas\\core\\indexing.py:477: SettingWithCopyWarning: \n",
      "A value is trying to be set on a copy of a slice from a DataFrame.\n",
      "Try using .loc[row_indexer,col_indexer] = value instead\n",
      "\n",
      "See the caveats in the documentation: http://pandas.pydata.org/pandas-docs/stable/indexing.html#indexing-view-versus-copy\n",
      "  self.obj[item] = s\n"
     ]
    }
   ],
   "source": [
    "subDataMental = dataset[['muertos', 'heridos','problemas.mentales']]\n",
    "subDataMental.loc[:,'problemas.mentales'] = subDataMental['problemas.mentales'].str.lower()\n",
    "subDataMental = subDataMental[subDataMental['problemas.mentales'] != 'unknown']\n",
    "print(subDataMental)"
   ]
  },
  {
   "cell_type": "code",
   "execution_count": null,
   "metadata": {
    "collapsed": true
   },
   "outputs": [],
   "source": []
  },
  {
   "cell_type": "code",
   "execution_count": null,
   "metadata": {
    "collapsed": true
   },
   "outputs": [],
   "source": []
  }
 ],
 "metadata": {
  "kernelspec": {
   "display_name": "Python 3",
   "language": "python",
   "name": "python3"
  },
  "language_info": {
   "codemirror_mode": {
    "name": "ipython",
    "version": 3
   },
   "file_extension": ".py",
   "mimetype": "text/x-python",
   "name": "python",
   "nbconvert_exporter": "python",
   "pygments_lexer": "ipython3",
   "version": "3.6.0"
  }
 },
 "nbformat": 4,
 "nbformat_minor": 2
}
